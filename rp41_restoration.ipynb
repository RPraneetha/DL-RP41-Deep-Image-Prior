{
  "nbformat": 4,
  "nbformat_minor": 0,
  "metadata": {
    "colab": {
      "name": "rp41_restoration.ipynb",
      "provenance": [],
      "collapsed_sections": []
    },
    "kernelspec": {
      "name": "python3",
      "display_name": "Python 3"
    }
  },
  "cells": [
    {
      "cell_type": "code",
      "metadata": {
        "id": "hRjHW3Uabfya",
        "colab_type": "code",
        "colab": {}
      },
      "source": [
        "from google.colab import drive\n",
        "drive.mount('/content/drive')\n"
      ],
      "execution_count": 0,
      "outputs": []
    },
    {
      "cell_type": "code",
      "metadata": {
        "id": "3MKVKlovbk2q",
        "colab_type": "code",
        "colab": {}
      },
      "source": [
        "%cd drive/My Drive/ReproducabilityProjectDL"
      ],
      "execution_count": 0,
      "outputs": []
    },
    {
      "cell_type": "code",
      "metadata": {
        "id": "mrU-3mdLbmuE",
        "colab_type": "code",
        "colab": {}
      },
      "source": [
        "import matplotlib.pyplot as plot\n",
        "%matplotlib inline\n",
        "import numpy as np\n",
        "import torch as torch\n",
        "import torch.optim as optim\n",
        "from PIL import Image as Image\n",
        "from PIL import ImageDraw as imDraw\n",
        "from PIL import ImageFont as imFont\n",
        "import os\n",
        "import random\n",
        "import lorem as lorem\n",
        "import torchvision"
      ],
      "execution_count": 0,
      "outputs": []
    },
    {
      "cell_type": "markdown",
      "metadata": {
        "id": "traUCEP6btiV",
        "colab_type": "text"
      },
      "source": [
        "# Restoration"
      ]
    },
    {
      "cell_type": "markdown",
      "metadata": {
        "id": "bh7TO_9Abz2e",
        "colab_type": "text"
      },
      "source": [
        "## 1. Image Selection"
      ]
    },
    {
      "cell_type": "code",
      "metadata": {
        "id": "7p3wV7Ymb2Ly",
        "colab_type": "code",
        "colab": {}
      },
      "source": [
        "base_path = './Images/'\n",
        "images = os.listdir(base_path)\n",
        "\n",
        "index = np.random.randint(0,len(images)-1)\n",
        "\n",
        "#getting the image randomly from the list of test images\n",
        "image2 = Image.open(fp=base_path+images[index])"
      ],
      "execution_count": 0,
      "outputs": []
    },
    {
      "cell_type": "markdown",
      "metadata": {
        "id": "Xbdbglkfb7fI",
        "colab_type": "text"
      },
      "source": [
        "## 2. Setting Up Image and Mask"
      ]
    },
    {
      "cell_type": "code",
      "metadata": {
        "id": "wSIQlccAb8Ml",
        "colab_type": "code",
        "colab": {}
      },
      "source": [
        "#converting the PIL Image into an ndarray\n",
        "image2_np = np.array(image2).astype(int)\n",
        "\n",
        "#getting the text mask for the image\n",
        "# args:\n",
        "## image : PIL Image of test image loaded\n",
        "## noise_type : 1 = Text, 2 = Bernoulli Noise\n",
        "image2_mask_np = get_mask(image2,2,0.75)\n",
        "\n",
        "f, axes = plot.subplots(ncols=3,)\n",
        "axes[0].imshow(image2_np)\n",
        "axes[1].imshow(image2_mask_np)\n",
        "axes[2].imshow(image2_np * image2_mask_np)"
      ],
      "execution_count": 0,
      "outputs": []
    }
  ]
}