{
  "nbformat": 4,
  "nbformat_minor": 0,
  "metadata": {
    "colab": {
      "name": "rp41_inpaint.ipynb",
      "provenance": [],
      "collapsed_sections": []
    },
    "kernelspec": {
      "name": "python3",
      "display_name": "Python 3"
    },
    "accelerator": "GPU"
  },
  "cells": [
    {
      "cell_type": "markdown",
      "metadata": {
        "id": "weFxMwVGdChf",
        "colab_type": "text"
      },
      "source": [
        "Connecting Google Drive for Images, Data\n"
      ]
    },
    {
      "cell_type": "code",
      "metadata": {
        "id": "J57TOfyMdIYe",
        "colab_type": "code",
        "outputId": "33c5e9d9-1b38-4230-9160-240604c7e9a7",
        "colab": {
          "base_uri": "https://localhost:8080/",
          "height": 54
        }
      },
      "source": [
        "from google.colab import drive\n",
        "drive.mount('/content/drive')\n"
      ],
      "execution_count": 0,
      "outputs": [
        {
          "output_type": "stream",
          "text": [
            "Drive already mounted at /content/drive; to attempt to forcibly remount, call drive.mount(\"/content/drive\", force_remount=True).\n"
          ],
          "name": "stdout"
        }
      ]
    },
    {
      "cell_type": "code",
      "metadata": {
        "id": "0pzpmcKpf3t-",
        "colab_type": "code",
        "outputId": "7d09bcad-6b40-46ec-b5ef-60c2da628b01",
        "colab": {
          "base_uri": "https://localhost:8080/",
          "height": 34
        }
      },
      "source": [
        "%cd drive/My Drive/ReproducabilityProjectDL"
      ],
      "execution_count": 0,
      "outputs": [
        {
          "output_type": "stream",
          "text": [
            "/content/drive/My Drive/ReproducabilityProjectDL\n"
          ],
          "name": "stdout"
        }
      ]
    },
    {
      "cell_type": "code",
      "metadata": {
        "id": "KPSOj4iBOR2U",
        "colab_type": "code",
        "outputId": "e9174bae-7807-49f5-c542-06b7a208ea96",
        "colab": {
          "base_uri": "https://localhost:8080/",
          "height": 105
        }
      },
      "source": [
        "!pip install python-lorem"
      ],
      "execution_count": 0,
      "outputs": [
        {
          "output_type": "stream",
          "text": [
            "Collecting python-lorem\n",
            "  Downloading https://files.pythonhosted.org/packages/ea/bf/e5a08f019fe821e2c77c542be35e90efffae49359b48b7dd3ca9e638c0db/python_lorem-1.1.2-py3-none-any.whl\n",
            "Installing collected packages: python-lorem\n",
            "Successfully installed python-lorem-1.1.2\n"
          ],
          "name": "stdout"
        }
      ]
    },
    {
      "cell_type": "markdown",
      "metadata": {
        "id": "xrtlYEWfgDE0",
        "colab_type": "text"
      },
      "source": [
        "## Importing Python Libraries"
      ]
    },
    {
      "cell_type": "code",
      "metadata": {
        "id": "uO1wzOz9gmvR",
        "colab_type": "code",
        "colab": {}
      },
      "source": [
        "import matplotlib.pyplot as plot\n",
        "%matplotlib inline\n",
        "import numpy as np\n",
        "import torch as torch\n",
        "import torch.optim as optim\n",
        "from PIL import Image as Image\n",
        "from PIL import ImageDraw as imDraw\n",
        "from PIL import ImageFont as imFont\n",
        "import os\n",
        "import random\n",
        "import lorem as lorem\n",
        "import torchvision"
      ],
      "execution_count": 0,
      "outputs": []
    },
    {
      "cell_type": "markdown",
      "metadata": {
        "id": "L5WbWuSXhWm7",
        "colab_type": "text"
      },
      "source": [
        "## Image Mask Functions\n"
      ]
    },
    {
      "cell_type": "code",
      "metadata": {
        "id": "4y_uKlpkharz",
        "colab_type": "code",
        "colab": {}
      },
      "source": [
        "# def get_mask(image,mask_type,max_ratio=0.50):\n",
        "#   if(mask_type == 1):\n",
        "#     return get_mask_with_text(image)\n",
        "#   elif(mask_type == 2):\n",
        "#     return get_mask_with_noise(image,max_ratio)\n",
        "\n",
        "\n",
        "# def get_mask_with_text(image):\n",
        "#   (h,w) = image.size\n",
        "#   text_font = imFont.load_default();\n",
        "#   img_mask = Image.fromarray(np.array(image)*0+255)\n",
        "#   overlay = imDraw.Draw(img_mask)\n",
        "\n",
        "#   for i in range(102):\n",
        "#     pos_x = random.randrange(start=0,stop=w)\n",
        "#     pos_y = random.randrange(start=0,stop=h)\n",
        "#     text = lorem.get_word(count=1)\n",
        "#     overlay.text(xy=(pos_x,pos_y),text=text,fill='rgb(0, 0, 0)',font=text_font)\n",
        "  \n",
        "#   return np.array(img_mask).astype(np.float32) /255.\n",
        "\n",
        "# def get_mask_with_noise(image,max_ratio):\n",
        "#   (h,w) = image.size\n",
        "\n",
        "#   text_font = imFont.load_default();\n",
        "#   img_mask = Image.fromarray(np.array(image)*0+255)\n",
        "\n",
        "#   img_mask_np=(np.random.random_sample(size=np.array(image).shape) > max_ratio).astype(int)\n",
        "\n",
        "#   return img_mask_np\n",
        "  \n",
        "# ## function directly used from source\n",
        "# def get_noise(input_depth, method, spatial_size, noise_type='u', var=1./10):\n",
        "#   shape = [1, input_depth, spatial_size[0], spatial_size[1]]\n",
        "#   net_input = torch.zeros(shape)\n",
        "        \n",
        "#   fill_noise(net_input, noise_type)\n",
        "#   net_input *= var\n",
        "\n",
        "#   return net_input\n",
        "\n",
        "# ## function directly used from source\n",
        "# def get_params(opt_over, net, net_input, downsampler=None):\n",
        "#     '''Returns parameters that we want to optimize over.\n",
        "#     Args:\n",
        "#         opt_over: comma separated list, e.g. \"net,input\" or \"net\"\n",
        "#         net: network\n",
        "#         net_input: torch.Tensor that stores input `z`\n",
        "#     '''\n",
        "#     opt_over_list = opt_over.split(',')\n",
        "#     params = []\n",
        "    \n",
        "#     for opt in opt_over_list:\n",
        "    \n",
        "#         if opt == 'net':\n",
        "#             params += [x for x in net.parameters() ]\n",
        "#         elif  opt=='down':\n",
        "#             assert downsampler is not None\n",
        "#             params = [x for x in downsampler.parameters()]\n",
        "#         elif opt == 'input':\n",
        "#             net_input.requires_grad = True\n",
        "#             params += [net_input]\n",
        "#         else:\n",
        "#             assert False, 'what is it?'\n",
        "            \n",
        "#     return params"
      ],
      "execution_count": 0,
      "outputs": []
    },
    {
      "cell_type": "markdown",
      "metadata": {
        "id": "RcyQVeyILeEt",
        "colab_type": "text"
      },
      "source": [
        "# Inpainting"
      ]
    },
    {
      "cell_type": "markdown",
      "metadata": {
        "id": "V5sZzSN2E-aG",
        "colab_type": "text"
      },
      "source": [
        "## 1. Image Selection"
      ]
    },
    {
      "cell_type": "code",
      "metadata": {
        "id": "WC8UzyUFFLdQ",
        "colab_type": "code",
        "colab": {}
      },
      "source": [
        "base_path = './Images/'\n",
        "images = os.listdir(base_path)\n",
        "\n",
        "index = np.random.randint(0,len(images)-1)\n",
        "\n",
        "#getting the image randomly from the list of test images\n",
        "image = Image.open(fp=base_path+images[index])"
      ],
      "execution_count": 0,
      "outputs": []
    },
    {
      "cell_type": "markdown",
      "metadata": {
        "id": "4kC9m78yM2w9",
        "colab_type": "text"
      },
      "source": [
        "## 2. Setting up the Image and Mask"
      ]
    },
    {
      "cell_type": "code",
      "metadata": {
        "id": "UtklIGUKM5-j",
        "colab_type": "code",
        "outputId": "daa4a015-aec4-443c-a28d-49da3b846b40",
        "colab": {
          "base_uri": "https://localhost:8080/",
          "height": 167
        }
      },
      "source": [
        "#converting the PIL Image into an ndarray\n",
        "image_np = np.array(image).astype(np.float32) / 255.\n",
        "\n",
        "#getting the text mask for the image\n",
        "# args:\n",
        "## image : PIL Image of test image loaded\n",
        "## noise_type : 1 = Text, 2 = Bernoulli Noise\n",
        "image_mask_np = get_mask(image,1)\n",
        "\n",
        "f,ax = plot.subplots(ncols=3)\n",
        "ax[0].imshow(image_np)\n",
        "ax[1].imshow(image_mask_np)\n",
        "ax[2].imshow(image_mask_np * image_np)"
      ],
      "execution_count": 0,
      "outputs": [
        {
          "output_type": "execute_result",
          "data": {
            "text/plain": [
              "<matplotlib.image.AxesImage at 0x7f521742d4a8>"
            ]
          },
          "metadata": {
            "tags": []
          },
          "execution_count": 53
        },
        {
          "output_type": "display_data",
          "data": {
            "image/png": "[encoded data removed]",
            "text/plain": [
              "<Figure size 432x288 with 3 Axes>"
            ]
          },
          "metadata": {
            "tags": [],
            "needs_background": "light"
          }
        }
      ]
    },
    {
      "cell_type": "markdown",
      "metadata": {
        "id": "rWSdTNsNapu5",
        "colab_type": "text"
      },
      "source": [
        "## 3. Setting up Network Params"
      ]
    },
    {
      "cell_type": "code",
      "metadata": {
        "id": "Mz_-EVuMatzP",
        "colab_type": "code",
        "colab": {}
      },
      "source": [
        "# Params as described by paper\n",
        "INPUT = 'noise'\n",
        "input_depth = 32\n",
        "LR = 0.01 \n",
        "num_iter = 6001\n",
        "param_noise = False\n",
        "show_every = 50\n",
        "figsize = 5\n",
        "reg_noise_std = 0.03\n",
        "    \n",
        "net = SkipArchitecture(input_depth, img_np.shape[0], \n",
        "               num_channels_down = [128] * 5,\n",
        "               num_channels_up =   [128] * 5,\n",
        "               num_channels_skip =    [128] * 5,  \n",
        "               filter_size_up = 3, filter_size_down = 3, \n",
        "               upsample_mode='nearest', filter_skip_size=1,pad='reflection').type(dtype)\n",
        "    \n",
        "\n",
        "net = net.type(torch.cuda.FloatTensor)\n",
        "net_input = get_noise(input_depth, INPUT, img_np.shape[1:]).type(torch.cuda.FloatTensor)"
      ],
      "execution_count": 0,
      "outputs": []
    },
    {
      "cell_type": "code",
      "metadata": {
        "id": "Ru3Hm2pjeJC1",
        "colab_type": "code",
        "outputId": "835a7ef9-e2b0-4f4f-e95c-6d03ba53b493",
        "colab": {
          "base_uri": "https://localhost:8080/",
          "height": 180
        }
      },
      "source": [
        "# Parameters\n",
        "\n",
        "s  = sum(np.prod(list(p.size())) for p in net.parameters())"
      ],
      "execution_count": 0,
      "outputs": [
        {
          "output_type": "error",
          "ename": "NameError",
          "evalue": "ignored",
          "traceback": [
            "\u001b[0;31m---------------------------------------------------------------------------\u001b[0m",
            "\u001b[0;31mNameError\u001b[0m                                 Traceback (most recent call last)",
            "\u001b[0;32m<ipython-input-54-5d60825940ed>\u001b[0m in \u001b[0;36m<module>\u001b[0;34m()\u001b[0m\n\u001b[1;32m      1\u001b[0m \u001b[0;34m\u001b[0m\u001b[0m\n\u001b[0;32m----> 2\u001b[0;31m \u001b[0ms\u001b[0m  \u001b[0;34m=\u001b[0m \u001b[0msum\u001b[0m\u001b[0;34m(\u001b[0m\u001b[0mnp\u001b[0m\u001b[0;34m.\u001b[0m\u001b[0mprod\u001b[0m\u001b[0;34m(\u001b[0m\u001b[0mlist\u001b[0m\u001b[0;34m(\u001b[0m\u001b[0mp\u001b[0m\u001b[0;34m.\u001b[0m\u001b[0msize\u001b[0m\u001b[0;34m(\u001b[0m\u001b[0;34m)\u001b[0m\u001b[0;34m)\u001b[0m\u001b[0;34m)\u001b[0m \u001b[0;32mfor\u001b[0m \u001b[0mp\u001b[0m \u001b[0;32min\u001b[0m \u001b[0mnet\u001b[0m\u001b[0;34m.\u001b[0m\u001b[0mparameters\u001b[0m\u001b[0;34m(\u001b[0m\u001b[0;34m)\u001b[0m\u001b[0;34m)\u001b[0m\u001b[0;34m\u001b[0m\u001b[0;34m\u001b[0m\u001b[0m\n\u001b[0m",
            "\u001b[0;31mNameError\u001b[0m: name 'net' is not defined"
          ]
        }
      ]
    },
    {
      "cell_type": "code",
      "metadata": {
        "id": "XqOxZ3QXel1R",
        "colab_type": "code",
        "colab": {}
      },
      "source": [
        "# Define Loss function\n",
        "\n",
        "error = torch.nn.MSELoss().type(torch.cuda.FloatTensor)"
      ],
      "execution_count": 0,
      "outputs": []
    },
    {
      "cell_type": "code",
      "metadata": {
        "id": "icttyPGhf1pK",
        "colab_type": "code",
        "colab": {}
      },
      "source": [
        "# Defining the image variables as pyTorch Tensors\n",
        "image_t = torch.from_numpy(image_np)\n",
        "image_mask_t = torch.from_numpy(image_mask_np)"
      ],
      "execution_count": 0,
      "outputs": []
    },
    {
      "cell_type": "markdown",
      "metadata": {
        "id": "bDvTn8memqWA",
        "colab_type": "text"
      },
      "source": [
        "## 4. Executing"
      ]
    },
    {
      "cell_type": "code",
      "metadata": {
        "id": "z9v1HoMgjaVy",
        "colab_type": "code",
        "colab": {}
      },
      "source": [
        " i = 0\n",
        " def closure():\n",
        "   net_input = net_input_saved\n",
        "   net_input = net_input_saved + (noise.normal_() * reg_noise_std)\n",
        "\n",
        "   out = net(net_input)\n",
        "   total_loss = mse(out * image_mask_t, image_t * image_mask_t)\n",
        "   total_loss.backward()\n",
        "   i += 1\n",
        "   print ('Iteration %05d    Loss %f' % (i, total_loss.item()), '\\r', end='')\n",
        "\n",
        "  # display images\n",
        "   return total_loss\n",
        "\n",
        "net_input_saved = net_input.detach().clone()\n",
        "noise = net_input.detach().clone()\n",
        "\n",
        "p = get_params('net', net, net_input)\n",
        "optimize('adam', p, closure, LR, num_iter)"
      ],
      "execution_count": 0,
      "outputs": []
    },
    {
      "cell_type": "markdown",
      "metadata": {
        "id": "ymyPVhVvmzUH",
        "colab_type": "text"
      },
      "source": [
        "## 5. Display Result"
      ]
    },
    {
      "cell_type": "code",
      "metadata": {
        "id": "96lTD4gGmymO",
        "colab_type": "code",
        "colab": {}
      },
      "source": [
        "image_tensor = net(net_input)\n",
        "result_np = image_tensor.detach().cpu().numpy()[0]\n",
        "plot.imshow(result_np)"
      ],
      "execution_count": 0,
      "outputs": []
    }
  ]
}