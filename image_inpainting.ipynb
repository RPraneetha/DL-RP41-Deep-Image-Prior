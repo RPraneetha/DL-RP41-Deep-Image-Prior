{
  "nbformat": 4,
  "nbformat_minor": 0,
  "metadata": {
    "colab": {
      "name": "rp41_inpaint.ipynb",
      "provenance": [],
      "collapsed_sections": []
    },
    "kernelspec": {
      "name": "python3",
      "display_name": "Python 3"
    },
    "accelerator": "GPU"
  },
  "cells": [
    {
      "cell_type": "markdown",
      "metadata": {
        "id": "weFxMwVGdChf",
        "colab_type": "text"
      },
      "source": [
        "## Connecting Google Drive for Colaboratory\n"
      ]
    },
    {
      "cell_type": "code",
      "metadata": {
        "id": "J57TOfyMdIYe",
        "colab_type": "code",
        "colab": {}
      },
      "source": [
        "from google.colab import drive\n",
        "drive.mount('/content/drive')\n"
      ],
      "execution_count": 0,
      "outputs": []
    },
    {
      "cell_type": "code",
      "metadata": {
        "id": "0pzpmcKpf3t-",
        "colab_type": "code",
        "colab": {}
      },
      "source": [
        "%cd drive/My Drive/DL-RP41-Deep-Image-Prior/"
      ],
      "execution_count": 0,
      "outputs": []
    },
    {
      "cell_type": "markdown",
      "metadata": {
        "id": "xrtlYEWfgDE0",
        "colab_type": "text"
      },
      "source": [
        "## Importing Python Libraries"
      ]
    },
    {
      "cell_type": "code",
      "metadata": {
        "id": "uO1wzOz9gmvR",
        "colab_type": "code",
        "colab": {}
      },
      "source": [
        "import matplotlib.pyplot as plot\n",
        "%matplotlib inline\n",
        "import numpy as np\n",
        "import torch as torch\n",
        "import torch.optim as optim\n",
        "from PIL import Image as Image\n",
        "from PIL import ImageDraw as imDraw\n",
        "from PIL import ImageFont as imFont\n",
        "import os\n",
        "import random\n",
        "import torchvision\n",
        "from util.common_utils import *\n",
        "from models.skip_architecture import SkipArchitecture\n",
        "\n",
        "torch.backends.cudnn.enabled = True\n",
        "torch.backends.cudnn.benchmark =True"
      ],
      "execution_count": 0,
      "outputs": []
    },
    {
      "cell_type": "markdown",
      "metadata": {
        "id": "RcyQVeyILeEt",
        "colab_type": "text"
      },
      "source": [
        "# Inpainting"
      ]
    },
    {
      "cell_type": "markdown",
      "metadata": {
        "id": "V5sZzSN2E-aG",
        "colab_type": "text"
      },
      "source": [
        "## 1. Image and Mask Selection"
      ]
    },
    {
      "cell_type": "code",
      "metadata": {
        "id": "WC8UzyUFFLdQ",
        "colab_type": "code",
        "colab": {}
      },
      "source": [
        "image_path = 'data/inpainting/dumpling.png'\n",
        "image_mask_path = 'data/inpainting/lena_mask.png'\n",
        "\n",
        "image = Image.open(fp=image_path)\n",
        "image_mask = Image.open(fp=image_mask_path)"
      ],
      "execution_count": 0,
      "outputs": []
    },
    {
      "cell_type": "markdown",
      "metadata": {
        "id": "4kC9m78yM2w9",
        "colab_type": "text"
      },
      "source": [
        "## 2. Setting up the Image and Mask"
      ]
    },
    {
      "cell_type": "code",
      "metadata": {
        "id": "J43m7S934US1",
        "colab_type": "code",
        "colab": {}
      },
      "source": [
        "#converting the PIL Images into an ndarray\n",
        "image_np = image_to_ndarray(image)\n",
        "image_mask_np = image_to_ndarray(image_mask)"
      ],
      "execution_count": 0,
      "outputs": []
    },
    {
      "cell_type": "markdown",
      "metadata": {
        "id": "savES6cDhoWX",
        "colab_type": "text"
      },
      "source": [
        "### 2.1 Displaying Images"
      ]
    },
    {
      "cell_type": "code",
      "metadata": {
        "id": "12IktmWLhlWZ",
        "colab_type": "code",
        "colab": {}
      },
      "source": [
        "plot.imshow(image)"
      ],
      "execution_count": 0,
      "outputs": []
    },
    {
      "cell_type": "code",
      "metadata": {
        "id": "0V1U6v026W6k",
        "colab_type": "code",
        "colab": {}
      },
      "source": [
        "plot.imshow((image_mask_np * image_np).transpose(1,2,0))"
      ],
      "execution_count": 0,
      "outputs": []
    },
    {
      "cell_type": "markdown",
      "metadata": {
        "id": "rWSdTNsNapu5",
        "colab_type": "text"
      },
      "source": [
        "## 3. Setting up Network Params"
      ]
    },
    {
      "cell_type": "code",
      "metadata": {
        "id": "Mz_-EVuMatzP",
        "colab_type": "code",
        "colab": {}
      },
      "source": [
        "#model parameters defined by paper\n",
        "params = (0.1) * torch.rand((1,32,512,512),device='cuda')\n",
        "\n",
        "# Params as described by paper\n",
        "input_depth = 32\n",
        "LR = 0.01 \n",
        "num_iter = 6001\n",
        "param_noise = False\n",
        "show_every = 50\n",
        "figsize = 5\n",
        "reg_noise_std = 0.03\n",
        "    \n",
        "\n",
        "net = SkipArchitecture(input_channels=input_depth, output_channels=image_np.shape[0], \n",
        "               filters_down = [128] * 5,\n",
        "               filters_up =   [128] * 5,\n",
        "               filters_skip =    [128] * 5,  \n",
        "               kernel_size_up = [3] * 5, kernel_size_down = [3] * 5, \n",
        "               upsample_mode='nearest', kernel_size_skip=[1] * 5)\n",
        "\n",
        "\n",
        "net = net.type(torch.cuda.FloatTensor)"
      ],
      "execution_count": 0,
      "outputs": []
    },
    {
      "cell_type": "code",
      "metadata": {
        "id": "Ru3Hm2pjeJC1",
        "colab_type": "code",
        "colab": {}
      },
      "source": [
        "# Parameters\n",
        "\n",
        "s  = sum(np.prod(list(p.size())) for p in net.parameters())\n",
        "print('Number of parameters: ',s)"
      ],
      "execution_count": 0,
      "outputs": []
    },
    {
      "cell_type": "code",
      "metadata": {
        "id": "XqOxZ3QXel1R",
        "colab_type": "code",
        "colab": {}
      },
      "source": [
        "# Define Loss function\n",
        "\n",
        "error = torch.nn.MSELoss().type(torch.cuda.FloatTensor)"
      ],
      "execution_count": 0,
      "outputs": []
    },
    {
      "cell_type": "code",
      "metadata": {
        "id": "icttyPGhf1pK",
        "colab_type": "code",
        "colab": {}
      },
      "source": [
        "# Defining the image variables as pyTorch Tensors\n",
        "image_t = torch.from_numpy(image_np)\n",
        "image_mask_t = torch.from_numpy(image_mask_np)"
      ],
      "execution_count": 0,
      "outputs": []
    },
    {
      "cell_type": "markdown",
      "metadata": {
        "id": "bDvTn8memqWA",
        "colab_type": "text"
      },
      "source": [
        "## 4. Executing"
      ]
    },
    {
      "cell_type": "markdown",
      "metadata": {
        "id": "Ac-YC7-YhdTg",
        "colab_type": "text"
      },
      "source": [
        "### 4.1 Checking GPU Availability"
      ]
    },
    {
      "cell_type": "code",
      "metadata": {
        "id": "25_3Aw9DHV0a",
        "colab_type": "code",
        "colab": {}
      },
      "source": [
        " gpu = torch.cuda.is_available()\n",
        " gpu_on = torch.cuda.is_initialized()\n",
        " print(gpu,gpu_on)\n",
        " if gpu == True:\n",
        "   net = net.cuda()\n",
        "   params = params.cuda()\n",
        "   image_t = image_t.cuda()\n",
        "   image_mask_t = image_mask_t.cuda()"
      ],
      "execution_count": 0,
      "outputs": []
    },
    {
      "cell_type": "markdown",
      "metadata": {
        "id": "DKsO0jPDhZYT",
        "colab_type": "text"
      },
      "source": [
        "### 4.2 Executing Main Loop"
      ]
    },
    {
      "cell_type": "code",
      "metadata": {
        "id": "z9v1HoMgjaVy",
        "colab_type": "code",
        "colab": {}
      },
      "source": [
        "optimizer = torch.optim.Adam(net.parameters(),lr=LR)\n",
        "\n",
        "for i in range(num_iter):\n",
        "  optimizer.zero_grad()\n",
        "\n",
        "  out = net.forward(params)\n",
        "  total_loss = error(out * image_mask_t, image_t * image_mask_t)\n",
        "  total_loss.backward()\n",
        "\n",
        "  optimizer.step()\n",
        "  if i % 200 == 0:\n",
        "    print((i, total_loss.item()))\n",
        "    \n",
        "  params = params + (1/(30))*torch.randn_like(params)\n",
        "\n"
      ],
      "execution_count": 0,
      "outputs": []
    },
    {
      "cell_type": "markdown",
      "metadata": {
        "id": "ymyPVhVvmzUH",
        "colab_type": "text"
      },
      "source": [
        "## 5. Display Result"
      ]
    },
    {
      "cell_type": "code",
      "metadata": {
        "id": "96lTD4gGmymO",
        "colab_type": "code",
        "colab": {}
      },
      "source": [
        "image_tensor = net.forward(params)\n",
        "result_np = image_tensor.detach().cpu().numpy()[0]\n",
        "plot.imshow(result_np.transpose(1,2,0))"
      ],
      "execution_count": 0,
      "outputs": []
    }
  ]
}